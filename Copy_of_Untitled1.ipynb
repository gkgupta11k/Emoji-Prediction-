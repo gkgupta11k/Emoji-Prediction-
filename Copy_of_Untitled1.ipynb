{
  "nbformat": 4,
  "nbformat_minor": 0,
  "metadata": {
    "colab": {
      "name": "Copy of Untitled1.ipynb",
      "provenance": [],
      "collapsed_sections": []
    },
    "kernelspec": {
      "name": "python3",
      "display_name": "Python 3"
    },
    "language_info": {
      "name": "python"
    }
  },
  "cells": [
    {
      "cell_type": "code",
      "metadata": {
        "id": "OHN-LMKjY_gR"
      },
      "source": [
        "import numpy as np\n",
        "import pandas as pd\n",
        "\n",
        "import emoji\n",
        "\n",
        "from keras.models import Sequential\n",
        "from keras.layers import Dense, Input, Dropout, SimpleRNN,LSTM, Activation\n",
        "from keras.utils import np_utils\n",
        "\n",
        "import matplotlib.pyplot as plt"
      ],
      "execution_count": null,
      "outputs": []
    },
    {
      "cell_type": "code",
      "metadata": {
        "id": "XdNwK8X6ZoAX"
      },
      "source": [
        "train = pd.read_csv('/content/train_emoji.csv',header=None)\n",
        "test = pd.read_csv('/content/test_emoji.csv',header=None)\n",
        "train.drop(labels=[2,3], axis= 1, inplace = True )"
      ],
      "execution_count": null,
      "outputs": []
    },
    {
      "cell_type": "code",
      "metadata": {
        "colab": {
          "base_uri": "https://localhost:8080/",
          "height": 204
        },
        "id": "hIsjiP-1ZrND",
        "outputId": "30cd754a-0628-4d07-a24e-89706a07da2e"
      },
      "source": [
        "train.head()\n",
        "\n"
      ],
      "execution_count": null,
      "outputs": [
        {
          "output_type": "execute_result",
          "data": {
            "text/html": [
              "<div>\n",
              "<style scoped>\n",
              "    .dataframe tbody tr th:only-of-type {\n",
              "        vertical-align: middle;\n",
              "    }\n",
              "\n",
              "    .dataframe tbody tr th {\n",
              "        vertical-align: top;\n",
              "    }\n",
              "\n",
              "    .dataframe thead th {\n",
              "        text-align: right;\n",
              "    }\n",
              "</style>\n",
              "<table border=\"1\" class=\"dataframe\">\n",
              "  <thead>\n",
              "    <tr style=\"text-align: right;\">\n",
              "      <th></th>\n",
              "      <th>0</th>\n",
              "      <th>1</th>\n",
              "    </tr>\n",
              "  </thead>\n",
              "  <tbody>\n",
              "    <tr>\n",
              "      <th>0</th>\n",
              "      <td>never talk to me again</td>\n",
              "      <td>3</td>\n",
              "    </tr>\n",
              "    <tr>\n",
              "      <th>1</th>\n",
              "      <td>I am proud of your achievements</td>\n",
              "      <td>2</td>\n",
              "    </tr>\n",
              "    <tr>\n",
              "      <th>2</th>\n",
              "      <td>It is the worst day in my life</td>\n",
              "      <td>3</td>\n",
              "    </tr>\n",
              "    <tr>\n",
              "      <th>3</th>\n",
              "      <td>Miss you so much</td>\n",
              "      <td>0</td>\n",
              "    </tr>\n",
              "    <tr>\n",
              "      <th>4</th>\n",
              "      <td>food is life</td>\n",
              "      <td>4</td>\n",
              "    </tr>\n",
              "  </tbody>\n",
              "</table>\n",
              "</div>"
            ],
            "text/plain": [
              "                                 0  1\n",
              "0           never talk to me again  3\n",
              "1  I am proud of your achievements  2\n",
              "2   It is the worst day in my life  3\n",
              "3                 Miss you so much  0\n",
              "4                     food is life  4"
            ]
          },
          "metadata": {
            "tags": []
          },
          "execution_count": 9
        }
      ]
    },
    {
      "cell_type": "code",
      "metadata": {
        "colab": {
          "base_uri": "https://localhost:8080/",
          "height": 204
        },
        "id": "V734V1XEaTvE",
        "outputId": "54869831-fb92-4b40-b595-db52f7aec0fc"
      },
      "source": [
        "test.head()"
      ],
      "execution_count": null,
      "outputs": [
        {
          "output_type": "execute_result",
          "data": {
            "text/html": [
              "<div>\n",
              "<style scoped>\n",
              "    .dataframe tbody tr th:only-of-type {\n",
              "        vertical-align: middle;\n",
              "    }\n",
              "\n",
              "    .dataframe tbody tr th {\n",
              "        vertical-align: top;\n",
              "    }\n",
              "\n",
              "    .dataframe thead th {\n",
              "        text-align: right;\n",
              "    }\n",
              "</style>\n",
              "<table border=\"1\" class=\"dataframe\">\n",
              "  <thead>\n",
              "    <tr style=\"text-align: right;\">\n",
              "      <th></th>\n",
              "      <th>0</th>\n",
              "      <th>1</th>\n",
              "    </tr>\n",
              "  </thead>\n",
              "  <tbody>\n",
              "    <tr>\n",
              "      <th>0</th>\n",
              "      <td>I want to eat\\t</td>\n",
              "      <td>4</td>\n",
              "    </tr>\n",
              "    <tr>\n",
              "      <th>1</th>\n",
              "      <td>he did not answer\\t</td>\n",
              "      <td>3</td>\n",
              "    </tr>\n",
              "    <tr>\n",
              "      <th>2</th>\n",
              "      <td>he got a raise\\t</td>\n",
              "      <td>2</td>\n",
              "    </tr>\n",
              "    <tr>\n",
              "      <th>3</th>\n",
              "      <td>she got me a present\\t</td>\n",
              "      <td>0</td>\n",
              "    </tr>\n",
              "    <tr>\n",
              "      <th>4</th>\n",
              "      <td>ha ha ha it was so funny\\t</td>\n",
              "      <td>2</td>\n",
              "    </tr>\n",
              "  </tbody>\n",
              "</table>\n",
              "</div>"
            ],
            "text/plain": [
              "                            0  1\n",
              "0             I want to eat\\t  4\n",
              "1         he did not answer\\t  3\n",
              "2            he got a raise\\t  2\n",
              "3      she got me a present\\t  0\n",
              "4  ha ha ha it was so funny\\t  2"
            ]
          },
          "metadata": {
            "tags": []
          },
          "execution_count": 7
        }
      ]
    },
    {
      "cell_type": "code",
      "metadata": {
        "colab": {
          "base_uri": "https://localhost:8080/"
        },
        "id": "AiqFpvxMbTwp",
        "outputId": "74009c83-fcf7-4e0e-c767-1190be656a01"
      },
      "source": [
        "!pip install emoji"
      ],
      "execution_count": null,
      "outputs": [
        {
          "output_type": "stream",
          "text": [
            "Collecting emoji\n",
            "  Downloading emoji-1.4.2.tar.gz (184 kB)\n",
            "\u001b[?25l\r\u001b[K     |█▊                              | 10 kB 18.2 MB/s eta 0:00:01\r\u001b[K     |███▌                            | 20 kB 23.3 MB/s eta 0:00:01\r\u001b[K     |█████▎                          | 30 kB 24.6 MB/s eta 0:00:01\r\u001b[K     |███████                         | 40 kB 18.4 MB/s eta 0:00:01\r\u001b[K     |████████▉                       | 51 kB 8.5 MB/s eta 0:00:01\r\u001b[K     |██████████▋                     | 61 kB 9.2 MB/s eta 0:00:01\r\u001b[K     |████████████▍                   | 71 kB 7.4 MB/s eta 0:00:01\r\u001b[K     |██████████████▏                 | 81 kB 8.2 MB/s eta 0:00:01\r\u001b[K     |████████████████                | 92 kB 7.1 MB/s eta 0:00:01\r\u001b[K     |█████████████████▊              | 102 kB 7.8 MB/s eta 0:00:01\r\u001b[K     |███████████████████▌            | 112 kB 7.8 MB/s eta 0:00:01\r\u001b[K     |█████████████████████▎          | 122 kB 7.8 MB/s eta 0:00:01\r\u001b[K     |███████████████████████         | 133 kB 7.8 MB/s eta 0:00:01\r\u001b[K     |████████████████████████▉       | 143 kB 7.8 MB/s eta 0:00:01\r\u001b[K     |██████████████████████████▋     | 153 kB 7.8 MB/s eta 0:00:01\r\u001b[K     |████████████████████████████▍   | 163 kB 7.8 MB/s eta 0:00:01\r\u001b[K     |██████████████████████████████▏ | 174 kB 7.8 MB/s eta 0:00:01\r\u001b[K     |███████████████████████████████▉| 184 kB 7.8 MB/s eta 0:00:01\r\u001b[K     |████████████████████████████████| 184 kB 7.8 MB/s \n",
            "\u001b[?25hBuilding wheels for collected packages: emoji\n",
            "  Building wheel for emoji (setup.py) ... \u001b[?25l\u001b[?25hdone\n",
            "  Created wheel for emoji: filename=emoji-1.4.2-py3-none-any.whl size=186469 sha256=dee370849164e3ff18680bb5c975847497eedf2790e11cb08ab7f33b3d1f8125\n",
            "  Stored in directory: /root/.cache/pip/wheels/e4/61/e7/2fc1ac8f306848fc66c6c013ab511f0a39ef4b1825b11363b2\n",
            "Successfully built emoji\n",
            "Installing collected packages: emoji\n",
            "Successfully installed emoji-1.4.2\n"
          ],
          "name": "stdout"
        }
      ]
    },
    {
      "cell_type": "code",
      "metadata": {
        "id": "gvWYG7f1bq9O"
      },
      "source": [
        "emoji_dict = { 0 : \":heart:\", 1 : \":baseball:\", 2 : \":smile:\", 3 : \":disappointed:\", 4 : \":fork_and_knife:\"}"
      ],
      "execution_count": null,
      "outputs": []
    },
    {
      "cell_type": "code",
      "metadata": {
        "colab": {
          "base_uri": "https://localhost:8080/"
        },
        "id": "PdaLMgRmbueS",
        "outputId": "86674f91-57a3-4fce-b092-85d4dc10e86b"
      },
      "source": [
        "for ix in emoji_dict.keys():\n",
        "    print (ix,end=\" \")\n",
        "    print (emoji.emojize(emoji_dict[ix], use_aliases=True))"
      ],
      "execution_count": null,
      "outputs": [
        {
          "output_type": "stream",
          "text": [
            "0 ❤\n",
            "1 ⚾\n",
            "2 😄\n",
            "3 😞\n",
            "4 🍴\n"
          ],
          "name": "stdout"
        }
      ]
    },
    {
      "cell_type": "code",
      "metadata": {
        "colab": {
          "base_uri": "https://localhost:8080/"
        },
        "id": "qRBhbt3Ob6GQ",
        "outputId": "def55842-f818-4b75-ffe1-ec1e5805d3e7"
      },
      "source": [
        "X_train = train[0]\n",
        "Y_train = train[1]\n",
        "\n",
        "X_test = test[0]\n",
        "Y_test = test[1]\n",
        "\n",
        "print (X_train.shape, Y_train.shape, X_test.shape, Y_test.shape)\n",
        "print (\"-------------------------\")\n",
        "print (X_train[0],Y_train[0])"
      ],
      "execution_count": null,
      "outputs": [
        {
          "output_type": "stream",
          "text": [
            "(132,) (132,) (56,) (56,)\n",
            "-------------------------\n",
            "never talk to me again 3\n"
          ],
          "name": "stdout"
        }
      ]
    },
    {
      "cell_type": "code",
      "metadata": {
        "colab": {
          "base_uri": "https://localhost:8080/"
        },
        "id": "5oEqy-EScGo9",
        "outputId": "47f8392a-903d-4598-8222-f89883be0152"
      },
      "source": [
        "# Splitting the train data from sentences to words\n",
        "for ix in range(X_train.shape[0]):\n",
        "    X_train[ix] = X_train[ix].split()\n",
        "\n",
        "# Splitting the test data from sentences to words\n",
        "for ix in range(X_test.shape[0]):\n",
        "    X_test[ix] = X_test[ix].split()\n",
        "    \n",
        "# Converting labels into categorical form\n",
        "Y_train = np_utils.to_categorical(Y_train)"
      ],
      "execution_count": null,
      "outputs": [
        {
          "output_type": "stream",
          "text": [
            "/usr/local/lib/python3.7/dist-packages/ipykernel_launcher.py:3: SettingWithCopyWarning: \n",
            "A value is trying to be set on a copy of a slice from a DataFrame\n",
            "\n",
            "See the caveats in the documentation: https://pandas.pydata.org/pandas-docs/stable/user_guide/indexing.html#returning-a-view-versus-a-copy\n",
            "  This is separate from the ipykernel package so we can avoid doing imports until\n",
            "/usr/local/lib/python3.7/dist-packages/ipykernel_launcher.py:7: SettingWithCopyWarning: \n",
            "A value is trying to be set on a copy of a slice from a DataFrame\n",
            "\n",
            "See the caveats in the documentation: https://pandas.pydata.org/pandas-docs/stable/user_guide/indexing.html#returning-a-view-versus-a-copy\n",
            "  import sys\n"
          ],
          "name": "stderr"
        }
      ]
    },
    {
      "cell_type": "code",
      "metadata": {
        "colab": {
          "base_uri": "https://localhost:8080/"
        },
        "id": "got1JmmWcMFd",
        "outputId": "e73cfc4a-c8e0-4090-b506-31bfcfd2f3fb"
      },
      "source": [
        "print (X_train[0],Y_train[0])"
      ],
      "execution_count": null,
      "outputs": [
        {
          "output_type": "stream",
          "text": [
            "['never', 'talk', 'to', 'me', 'again'] [0. 0. 0. 1. 0.]\n"
          ],
          "name": "stdout"
        }
      ]
    },
    {
      "cell_type": "code",
      "metadata": {
        "colab": {
          "base_uri": "https://localhost:8080/"
        },
        "id": "L5t6uZ-hcRZY",
        "outputId": "3ca72ab3-34bb-4e30-9361-ef06d999a95f"
      },
      "source": [
        "np.unique(np.array([len(ix) for ix in X_train]) , return_counts=True)"
      ],
      "execution_count": null,
      "outputs": [
        {
          "output_type": "execute_result",
          "data": {
            "text/plain": [
              "(array([ 1,  2,  3,  4,  5,  6,  7,  8,  9, 10]),\n",
              " array([ 4,  5, 26, 35, 20, 21, 11,  5,  1,  4]))"
            ]
          },
          "metadata": {
            "tags": []
          },
          "execution_count": 12
        }
      ]
    },
    {
      "cell_type": "code",
      "metadata": {
        "colab": {
          "base_uri": "https://localhost:8080/"
        },
        "id": "5PpIYhLgcVqC",
        "outputId": "7797f0be-1118-4c58-be9f-ae643d24e1f4"
      },
      "source": [
        "np.unique(np.array([len(ix) for ix in X_test]) , return_counts=True)"
      ],
      "execution_count": null,
      "outputs": [
        {
          "output_type": "execute_result",
          "data": {
            "text/plain": [
              "(array([2, 3, 4, 5, 6, 7, 8]), array([ 3, 12, 16, 17,  3,  4,  1]))"
            ]
          },
          "metadata": {
            "tags": []
          },
          "execution_count": 14
        }
      ]
    },
    {
      "cell_type": "code",
      "metadata": {
        "id": "JwdKJoWTfEKU"
      },
      "source": [
        "embeddings_index = {}\n",
        "\n",
        "f = open(\"/content/glove.6B.50d.txt\", encoding='utf8' , mode = 'r')\n",
        "for line in f:\n",
        "    values = line.split()\n",
        "    word = values[0]\n",
        "    coefs = np.asarray(values[1:], dtype='float32')\n",
        "    embeddings_index[word] = coefs\n",
        "f.close()"
      ],
      "execution_count": null,
      "outputs": []
    },
    {
      "cell_type": "code",
      "metadata": {
        "colab": {
          "base_uri": "https://localhost:8080/"
        },
        "id": "VJXGgsdZfUrj",
        "outputId": "57524741-92cb-4553-918f-1229074c6f88"
      },
      "source": [
        "embeddings_index[\"i\"].shape"
      ],
      "execution_count": null,
      "outputs": [
        {
          "output_type": "execute_result",
          "data": {
            "text/plain": [
              "(50,)"
            ]
          },
          "metadata": {
            "tags": []
          },
          "execution_count": 16
        }
      ]
    },
    {
      "cell_type": "code",
      "metadata": {
        "colab": {
          "base_uri": "https://localhost:8080/"
        },
        "id": "o6FhRs9gfw9U",
        "outputId": "f1c41a7d-5acd-41f2-d412-c08ddd0ada7f"
      },
      "source": [
        "from scipy import spatial\n",
        "# Checking cosine similarity of words happy and sad\n",
        "spatial.distance.cosine(embeddings_index[\"happy\"], embeddings_index[\"sad\"])"
      ],
      "execution_count": null,
      "outputs": [
        {
          "output_type": "execute_result",
          "data": {
            "text/plain": [
              "0.31093674898147583"
            ]
          },
          "metadata": {
            "tags": []
          },
          "execution_count": 17
        }
      ]
    },
    {
      "cell_type": "code",
      "metadata": {
        "colab": {
          "base_uri": "https://localhost:8080/"
        },
        "id": "VV_9F3VNqSVg",
        "outputId": "bf58b0e4-01dc-40e3-ff29-45919bba0f3d"
      },
      "source": [
        "spatial.distance.cosine(embeddings_index[\"india\"], embeddings_index[\"delhi\"])"
      ],
      "execution_count": null,
      "outputs": [
        {
          "output_type": "execute_result",
          "data": {
            "text/plain": [
              "0.18572336435317993"
            ]
          },
          "metadata": {
            "tags": []
          },
          "execution_count": 19
        }
      ]
    },
    {
      "cell_type": "code",
      "metadata": {
        "colab": {
          "base_uri": "https://localhost:8080/"
        },
        "id": "waJJGbyUqZcH",
        "outputId": "03f2963d-306e-4e4d-e4ce-c86bc9614738"
      },
      "source": [
        "spatial.distance.cosine(embeddings_index[\"france\"], embeddings_index[\"paris\"])"
      ],
      "execution_count": null,
      "outputs": [
        {
          "output_type": "execute_result",
          "data": {
            "text/plain": [
              "0.19746702909469604"
            ]
          },
          "metadata": {
            "tags": []
          },
          "execution_count": 20
        }
      ]
    },
    {
      "cell_type": "code",
      "metadata": {
        "id": "1MKx02VtgcHT"
      },
      "source": [
        "# Filling the embedding matrix\n",
        "embedding_matrix_train = np.zeros((X_train.shape[0], 10, 50))\n",
        "embedding_matrix_test = np.zeros((X_test.shape[0], 10, 50))\n",
        "\n",
        "for ix in range(X_train.shape[0]):\n",
        "    for ij in range(len(X_train[ix])):\n",
        "        embedding_matrix_train[ix][ij] = embeddings_index[X_train[ix][ij].lower()]\n",
        "        \n",
        "for ix in range(X_test.shape[0]):\n",
        "    for ij in range(len(X_test[ix])):\n",
        "        embedding_matrix_test[ix][ij] = embeddings_index[X_test[ix][ij].lower()]"
      ],
      "execution_count": null,
      "outputs": []
    },
    {
      "cell_type": "code",
      "metadata": {
        "colab": {
          "base_uri": "https://localhost:8080/"
        },
        "id": "npC5s91Tqf4n",
        "outputId": "870f8e22-f97d-47c5-dc54-1e9d9528f73a"
      },
      "source": [
        "print (embedding_matrix_train.shape, embedding_matrix_test.shape)"
      ],
      "execution_count": null,
      "outputs": [
        {
          "output_type": "stream",
          "text": [
            "(132, 10, 50) (56, 10, 50)\n"
          ],
          "name": "stdout"
        }
      ]
    },
    {
      "cell_type": "code",
      "metadata": {
        "colab": {
          "base_uri": "https://localhost:8080/"
        },
        "id": "6C-rIOTDqlh5",
        "outputId": "0658ca6c-352c-4a62-a6b1-2a6f03b05236"
      },
      "source": [
        "\n",
        "model = Sequential()\n",
        "model.add(SimpleRNN(64, input_shape=(10,50), return_sequences=True))\n",
        "model.add(Dropout(0.5))\n",
        "model.add(SimpleRNN(64, return_sequences=False))\n",
        "model.add(Dropout(0.5))\n",
        "model.add(Dense(5))\n",
        "model.add(Activation('softmax'))\n",
        "\n",
        "model.summary()"
      ],
      "execution_count": null,
      "outputs": [
        {
          "output_type": "stream",
          "text": [
            "Model: \"sequential\"\n",
            "_________________________________________________________________\n",
            "Layer (type)                 Output Shape              Param #   \n",
            "=================================================================\n",
            "simple_rnn (SimpleRNN)       (None, 10, 64)            7360      \n",
            "_________________________________________________________________\n",
            "dropout (Dropout)            (None, 10, 64)            0         \n",
            "_________________________________________________________________\n",
            "simple_rnn_1 (SimpleRNN)     (None, 64)                8256      \n",
            "_________________________________________________________________\n",
            "dropout_1 (Dropout)          (None, 64)                0         \n",
            "_________________________________________________________________\n",
            "dense (Dense)                (None, 5)                 325       \n",
            "_________________________________________________________________\n",
            "activation (Activation)      (None, 5)                 0         \n",
            "=================================================================\n",
            "Total params: 15,941\n",
            "Trainable params: 15,941\n",
            "Non-trainable params: 0\n",
            "_________________________________________________________________\n"
          ],
          "name": "stdout"
        }
      ]
    },
    {
      "cell_type": "code",
      "metadata": {
        "id": "mab6PaDsqq6G"
      },
      "source": [
        "model.compile(loss='categorical_crossentropy', optimizer='adam', metrics=['accuracy'])"
      ],
      "execution_count": null,
      "outputs": []
    },
    {
      "cell_type": "code",
      "metadata": {
        "colab": {
          "base_uri": "https://localhost:8080/"
        },
        "id": "bwP9QuthqwnM",
        "outputId": "4a4424b2-7219-4ac3-b29e-35f2647ed6bf"
      },
      "source": [
        "hist = model.fit(embedding_matrix_train,Y_train,\n",
        "                epochs = 50, batch_size=32,shuffle=True\n",
        "                )"
      ],
      "execution_count": null,
      "outputs": [
        {
          "output_type": "stream",
          "text": [
            "Epoch 1/50\n",
            "5/5 [==============================] - 22s 13ms/step - loss: 1.6458 - accuracy: 0.1794\n",
            "Epoch 2/50\n",
            "5/5 [==============================] - 0s 7ms/step - loss: 1.6030 - accuracy: 0.2816\n",
            "Epoch 3/50\n",
            "5/5 [==============================] - 0s 6ms/step - loss: 1.5511 - accuracy: 0.3179\n",
            "Epoch 4/50\n",
            "5/5 [==============================] - 0s 6ms/step - loss: 1.5936 - accuracy: 0.2173\n",
            "Epoch 5/50\n",
            "5/5 [==============================] - 0s 7ms/step - loss: 1.5408 - accuracy: 0.3525\n",
            "Epoch 6/50\n",
            "5/5 [==============================] - 0s 6ms/step - loss: 1.5010 - accuracy: 0.3476\n",
            "Epoch 7/50\n",
            "5/5 [==============================] - 0s 6ms/step - loss: 1.4766 - accuracy: 0.3194\n",
            "Epoch 8/50\n",
            "5/5 [==============================] - 0s 6ms/step - loss: 1.4083 - accuracy: 0.3518\n",
            "Epoch 9/50\n",
            "5/5 [==============================] - 0s 8ms/step - loss: 1.4385 - accuracy: 0.3365\n",
            "Epoch 10/50\n",
            "5/5 [==============================] - 0s 6ms/step - loss: 1.4700 - accuracy: 0.3525\n",
            "Epoch 11/50\n",
            "5/5 [==============================] - 0s 7ms/step - loss: 1.3901 - accuracy: 0.3876\n",
            "Epoch 12/50\n",
            "5/5 [==============================] - 0s 6ms/step - loss: 1.4006 - accuracy: 0.3756\n",
            "Epoch 13/50\n",
            "5/5 [==============================] - 0s 6ms/step - loss: 1.4288 - accuracy: 0.4018\n",
            "Epoch 14/50\n",
            "5/5 [==============================] - 0s 6ms/step - loss: 1.3793 - accuracy: 0.4081\n",
            "Epoch 15/50\n",
            "5/5 [==============================] - 0s 6ms/step - loss: 1.3048 - accuracy: 0.4211\n",
            "Epoch 16/50\n",
            "5/5 [==============================] - 0s 6ms/step - loss: 1.3442 - accuracy: 0.4154\n",
            "Epoch 17/50\n",
            "5/5 [==============================] - 0s 7ms/step - loss: 1.4237 - accuracy: 0.2785\n",
            "Epoch 18/50\n",
            "5/5 [==============================] - 0s 7ms/step - loss: 1.3418 - accuracy: 0.4243\n",
            "Epoch 19/50\n",
            "5/5 [==============================] - 0s 6ms/step - loss: 1.3050 - accuracy: 0.4802\n",
            "Epoch 20/50\n",
            "5/5 [==============================] - 0s 7ms/step - loss: 1.2883 - accuracy: 0.4209\n",
            "Epoch 21/50\n",
            "5/5 [==============================] - 0s 6ms/step - loss: 1.3049 - accuracy: 0.3768\n",
            "Epoch 22/50\n",
            "5/5 [==============================] - 0s 6ms/step - loss: 1.2998 - accuracy: 0.4360\n",
            "Epoch 23/50\n",
            "5/5 [==============================] - 0s 6ms/step - loss: 1.3020 - accuracy: 0.3847\n",
            "Epoch 24/50\n",
            "5/5 [==============================] - 0s 7ms/step - loss: 1.2329 - accuracy: 0.4755\n",
            "Epoch 25/50\n",
            "5/5 [==============================] - 0s 6ms/step - loss: 1.2227 - accuracy: 0.4498\n",
            "Epoch 26/50\n",
            "5/5 [==============================] - 0s 7ms/step - loss: 1.2180 - accuracy: 0.5030\n",
            "Epoch 27/50\n",
            "5/5 [==============================] - 0s 7ms/step - loss: 1.2230 - accuracy: 0.4700\n",
            "Epoch 28/50\n",
            "5/5 [==============================] - 0s 7ms/step - loss: 1.2721 - accuracy: 0.4177\n",
            "Epoch 29/50\n",
            "5/5 [==============================] - 0s 7ms/step - loss: 1.2458 - accuracy: 0.4582\n",
            "Epoch 30/50\n",
            "5/5 [==============================] - 0s 8ms/step - loss: 1.2864 - accuracy: 0.4274\n",
            "Epoch 31/50\n",
            "5/5 [==============================] - 0s 6ms/step - loss: 1.2345 - accuracy: 0.4579\n",
            "Epoch 32/50\n",
            "5/5 [==============================] - 0s 6ms/step - loss: 1.1604 - accuracy: 0.4410\n",
            "Epoch 33/50\n",
            "5/5 [==============================] - 0s 7ms/step - loss: 1.2527 - accuracy: 0.4272\n",
            "Epoch 34/50\n",
            "5/5 [==============================] - 0s 8ms/step - loss: 1.2229 - accuracy: 0.4021\n",
            "Epoch 35/50\n",
            "5/5 [==============================] - 0s 6ms/step - loss: 1.2125 - accuracy: 0.4831\n",
            "Epoch 36/50\n",
            "5/5 [==============================] - 0s 6ms/step - loss: 1.2358 - accuracy: 0.4617\n",
            "Epoch 37/50\n",
            "5/5 [==============================] - 0s 6ms/step - loss: 1.1959 - accuracy: 0.4534\n",
            "Epoch 38/50\n",
            "5/5 [==============================] - 0s 6ms/step - loss: 1.1878 - accuracy: 0.4752\n",
            "Epoch 39/50\n",
            "5/5 [==============================] - 0s 7ms/step - loss: 1.2818 - accuracy: 0.3984\n",
            "Epoch 40/50\n",
            "5/5 [==============================] - 0s 6ms/step - loss: 1.1338 - accuracy: 0.4851\n",
            "Epoch 41/50\n",
            "5/5 [==============================] - 0s 6ms/step - loss: 1.1546 - accuracy: 0.4938\n",
            "Epoch 42/50\n",
            "5/5 [==============================] - 0s 6ms/step - loss: 1.2041 - accuracy: 0.4881\n",
            "Epoch 43/50\n",
            "5/5 [==============================] - 0s 9ms/step - loss: 1.1942 - accuracy: 0.4652\n",
            "Epoch 44/50\n",
            "5/5 [==============================] - 0s 6ms/step - loss: 1.1118 - accuracy: 0.5090\n",
            "Epoch 45/50\n",
            "5/5 [==============================] - 0s 6ms/step - loss: 1.1943 - accuracy: 0.4374\n",
            "Epoch 46/50\n",
            "5/5 [==============================] - 0s 6ms/step - loss: 1.2243 - accuracy: 0.4146\n",
            "Epoch 47/50\n",
            "5/5 [==============================] - 0s 6ms/step - loss: 1.1685 - accuracy: 0.4919\n",
            "Epoch 48/50\n",
            "5/5 [==============================] - 0s 6ms/step - loss: 1.1866 - accuracy: 0.4608\n",
            "Epoch 49/50\n",
            "5/5 [==============================] - 0s 7ms/step - loss: 1.1621 - accuracy: 0.4360\n",
            "Epoch 50/50\n",
            "5/5 [==============================] - 0s 7ms/step - loss: 1.1578 - accuracy: 0.4615\n"
          ],
          "name": "stdout"
        }
      ]
    },
    {
      "cell_type": "code",
      "metadata": {
        "colab": {
          "base_uri": "https://localhost:8080/"
        },
        "id": "qyp1t8o6q8vs",
        "outputId": "d8d3b11d-ba54-4f20-a6ad-2910a25c30e0"
      },
      "source": [
        "pred = model.predict_classes(embedding_matrix_test)"
      ],
      "execution_count": null,
      "outputs": [
        {
          "output_type": "stream",
          "text": [
            "/usr/local/lib/python3.7/dist-packages/keras/engine/sequential.py:450: UserWarning: `model.predict_classes()` is deprecated and will be removed after 2021-01-01. Please use instead:* `np.argmax(model.predict(x), axis=-1)`,   if your model does multi-class classification   (e.g. if it uses a `softmax` last-layer activation).* `(model.predict(x) > 0.5).astype(\"int32\")`,   if your model does binary classification   (e.g. if it uses a `sigmoid` last-layer activation).\n",
            "  warnings.warn('`model.predict_classes()` is deprecated and '\n"
          ],
          "name": "stderr"
        }
      ]
    },
    {
      "cell_type": "code",
      "metadata": {
        "colab": {
          "base_uri": "https://localhost:8080/"
        },
        "id": "8QOjIWN9rBBg",
        "outputId": "64017208-9135-42da-b87a-318601ce83c1"
      },
      "source": [
        "float(sum(pred==Y_test))/embedding_matrix_test.shape[0]"
      ],
      "execution_count": null,
      "outputs": [
        {
          "output_type": "execute_result",
          "data": {
            "text/plain": [
              "0.32142857142857145"
            ]
          },
          "metadata": {
            "tags": []
          },
          "execution_count": 27
        }
      ]
    },
    {
      "cell_type": "code",
      "metadata": {
        "colab": {
          "base_uri": "https://localhost:8080/"
        },
        "id": "T71Uw2uCtFAD",
        "outputId": "88490995-57f2-4a69-a369-7d366815a038"
      },
      "source": [
        "for ix in range(embedding_matrix_test.shape[0]):\n",
        "    \n",
        "    if pred[ix] != Y_test[ix]:\n",
        "        print(ix)\n",
        "        print (test[0][ix],end=\" \")\n",
        "        print (emoji.emojize(emoji_dict[pred[ix]], use_aliases=True),end=\" \")\n",
        "        print (emoji.emojize(emoji_dict[Y_test[ix]], use_aliases=True))"
      ],
      "execution_count": null,
      "outputs": [
        {
          "output_type": "stream",
          "text": [
            "0\n",
            "['I', 'want', 'to', 'eat'] 😄 🍴\n",
            "1\n",
            "['he', 'did', 'not', 'answer'] 😄 😞\n",
            "3\n",
            "['she', 'got', 'me', 'a', 'present'] 😄 ❤\n",
            "5\n",
            "['he', 'is', 'a', 'good', 'friend'] 😄 ❤\n",
            "6\n",
            "['I', 'am', 'upset'] 😄 ❤\n",
            "7\n",
            "['We', 'had', 'such', 'a', 'lovely', 'dinner', 'tonight'] 😄 ❤\n",
            "8\n",
            "['where', 'is', 'the', 'food'] 😄 🍴\n",
            "10\n",
            "['where', 'is', 'the', 'ball'] 😄 ⚾\n",
            "11\n",
            "['work', 'is', 'hard'] 😄 😞\n",
            "12\n",
            "['This', 'girl', 'is', 'messing', 'with', 'me'] 😄 😞\n",
            "14\n",
            "['Let', 'us', 'go', 'play', 'baseball'] 😄 ⚾\n",
            "15\n",
            "['This', 'stupid', 'grader', 'is', 'not', 'working'] 😄 😞\n",
            "16\n",
            "['work', 'is', 'horrible'] 😄 😞\n",
            "18\n",
            "['stop', 'messing', 'around'] 😄 😞\n",
            "19\n",
            "['any', 'suggestions', 'for', 'dinner'] 😄 🍴\n",
            "20\n",
            "['I', 'love', 'taking', 'breaks'] 😄 ❤\n",
            "22\n",
            "['I', 'boiled', 'rice'] 😄 🍴\n",
            "23\n",
            "['she', 'is', 'a', 'bully'] 😄 😞\n",
            "24\n",
            "['Why', 'are', 'you', 'feeling', 'bad'] 😄 😞\n",
            "25\n",
            "['I', 'am', 'upset'] 😄 😞\n",
            "26\n",
            "['I', 'worked', 'during', 'my', 'birthday'] 😄 😞\n",
            "27\n",
            "['My', 'grandmother', 'is', 'the', 'love', 'of', 'my', 'life'] 😄 ❤\n",
            "29\n",
            "['valentine', 'day', 'is', 'near'] 😄 ❤\n",
            "30\n",
            "['I', 'miss', 'you', 'so', 'much'] 😄 ❤\n",
            "31\n",
            "['throw', 'the', 'ball'] 😄 ⚾\n",
            "32\n",
            "['My', 'life', 'is', 'so', 'boring'] 😄 😞\n",
            "34\n",
            "['will', 'you', 'be', 'my', 'valentine'] 😄 ❤\n",
            "35\n",
            "['he', 'can', 'pitch', 'really', 'well'] 😄 ⚾\n",
            "37\n",
            "['I', 'am', 'starving'] 😄 🍴\n",
            "38\n",
            "['See', 'you', 'at', 'the', 'restaurant'] 😄 🍴\n",
            "42\n",
            "['i', 'miss', 'her'] 😄 ❤\n",
            "43\n",
            "['what', 'is', 'your', 'favorite', 'baseball', 'game'] 😄 ⚾\n",
            "45\n",
            "['I', 'love', 'to', 'the', 'stars', 'and', 'back'] 😄 ❤\n",
            "49\n",
            "['go', 'away'] 😄 😞\n",
            "50\n",
            "['yesterday', 'we', 'lost', 'again'] 😄 😞\n",
            "51\n",
            "['family', 'is', 'all', 'I', 'have'] 😄 ❤\n",
            "52\n",
            "['you', 'are', 'failing', 'this', 'exercise'] 😄 😞\n",
            "55\n",
            "['I', 'did', 'not', 'have', 'breakfast'] 😄 😞\n"
          ],
          "name": "stdout"
        }
      ]
    },
    {
      "cell_type": "code",
      "metadata": {
        "id": "SqQJ8lzkuDYT"
      },
      "source": [
        "x = ['i', 'do', 'think','this', 'class', 'is', 'very', 'interesting']\n",
        "\n",
        "x_ = np.zeros((1,10,50))\n",
        "\n",
        "for ix in range(len(x)):\n",
        "    x_[0][ix] = embeddings_index[x[ix].lower()]"
      ],
      "execution_count": null,
      "outputs": []
    },
    {
      "cell_type": "code",
      "metadata": {
        "colab": {
          "base_uri": "https://localhost:8080/"
        },
        "id": "XR34S6TLuFHz",
        "outputId": "023560db-685d-443e-f374-bf8c3bb4f5dd"
      },
      "source": [
        "model.predict_classes(x_)"
      ],
      "execution_count": null,
      "outputs": [
        {
          "output_type": "stream",
          "text": [
            "/usr/local/lib/python3.7/dist-packages/keras/engine/sequential.py:450: UserWarning: `model.predict_classes()` is deprecated and will be removed after 2021-01-01. Please use instead:* `np.argmax(model.predict(x), axis=-1)`,   if your model does multi-class classification   (e.g. if it uses a `softmax` last-layer activation).* `(model.predict(x) > 0.5).astype(\"int32\")`,   if your model does binary classification   (e.g. if it uses a `sigmoid` last-layer activation).\n",
            "  warnings.warn('`model.predict_classes()` is deprecated and '\n"
          ],
          "name": "stderr"
        },
        {
          "output_type": "execute_result",
          "data": {
            "text/plain": [
              "array([3])"
            ]
          },
          "metadata": {
            "tags": []
          },
          "execution_count": 34
        }
      ]
    },
    {
      "cell_type": "code",
      "metadata": {
        "colab": {
          "base_uri": "https://localhost:8080/"
        },
        "id": "tahfg86JufYs",
        "outputId": "35767461-4697-4e56-cd89-fc00b756d048"
      },
      "source": [
        "model = Sequential()\n",
        "model.add(LSTM(128, input_shape=(10,50), return_sequences=True))\n",
        "model.add(Dropout(0.5))\n",
        "model.add(LSTM(128, return_sequences=False))\n",
        "model.add(Dropout(0.5))\n",
        "model.add(Dense(5))\n",
        "model.add(Activation('softmax'))\n",
        "\n",
        "model.summary()"
      ],
      "execution_count": null,
      "outputs": [
        {
          "output_type": "stream",
          "text": [
            "Model: \"sequential_1\"\n",
            "_________________________________________________________________\n",
            "Layer (type)                 Output Shape              Param #   \n",
            "=================================================================\n",
            "lstm (LSTM)                  (None, 10, 128)           91648     \n",
            "_________________________________________________________________\n",
            "dropout_2 (Dropout)          (None, 10, 128)           0         \n",
            "_________________________________________________________________\n",
            "lstm_1 (LSTM)                (None, 128)               131584    \n",
            "_________________________________________________________________\n",
            "dropout_3 (Dropout)          (None, 128)               0         \n",
            "_________________________________________________________________\n",
            "dense_1 (Dense)              (None, 5)                 645       \n",
            "_________________________________________________________________\n",
            "activation_1 (Activation)    (None, 5)                 0         \n",
            "=================================================================\n",
            "Total params: 223,877\n",
            "Trainable params: 223,877\n",
            "Non-trainable params: 0\n",
            "_________________________________________________________________\n"
          ],
          "name": "stdout"
        }
      ]
    },
    {
      "cell_type": "code",
      "metadata": {
        "id": "HtGaBbq0ukpe"
      },
      "source": [
        "model.compile(loss='categorical_crossentropy', optimizer='adam', metrics=['accuracy'])"
      ],
      "execution_count": null,
      "outputs": []
    },
    {
      "cell_type": "code",
      "metadata": {
        "colab": {
          "base_uri": "https://localhost:8080/"
        },
        "id": "Z4tn7ucAuqRf",
        "outputId": "6d775789-cd06-4001-c4f5-2adfc93a4ea3"
      },
      "source": [
        "hist = model.fit(embedding_matrix_train,Y_train,\n",
        "                epochs = 50, batch_size=32,shuffle=True\n",
        "                )"
      ],
      "execution_count": null,
      "outputs": [
        {
          "output_type": "stream",
          "text": [
            "Epoch 1/50\n",
            "5/5 [==============================] - 5s 24ms/step - loss: 1.5987 - accuracy: 0.2657\n",
            "Epoch 2/50\n",
            "5/5 [==============================] - 0s 24ms/step - loss: 1.5522 - accuracy: 0.3377\n",
            "Epoch 3/50\n",
            "5/5 [==============================] - 0s 25ms/step - loss: 1.5464 - accuracy: 0.3031\n",
            "Epoch 4/50\n",
            "5/5 [==============================] - 0s 23ms/step - loss: 1.5328 - accuracy: 0.2701\n",
            "Epoch 5/50\n",
            "5/5 [==============================] - 0s 24ms/step - loss: 1.5258 - accuracy: 0.3127\n",
            "Epoch 6/50\n",
            "5/5 [==============================] - 0s 22ms/step - loss: 1.4856 - accuracy: 0.3314\n",
            "Epoch 7/50\n",
            "5/5 [==============================] - 0s 21ms/step - loss: 1.4950 - accuracy: 0.3339\n",
            "Epoch 8/50\n",
            "5/5 [==============================] - 0s 22ms/step - loss: 1.4479 - accuracy: 0.3402\n",
            "Epoch 9/50\n",
            "5/5 [==============================] - 0s 24ms/step - loss: 1.4414 - accuracy: 0.3456\n",
            "Epoch 10/50\n",
            "5/5 [==============================] - 0s 22ms/step - loss: 1.4562 - accuracy: 0.3531\n",
            "Epoch 11/50\n",
            "5/5 [==============================] - 0s 23ms/step - loss: 1.3944 - accuracy: 0.3959\n",
            "Epoch 12/50\n",
            "5/5 [==============================] - 0s 24ms/step - loss: 1.3656 - accuracy: 0.4143\n",
            "Epoch 13/50\n",
            "5/5 [==============================] - 0s 23ms/step - loss: 1.3680 - accuracy: 0.3705\n",
            "Epoch 14/50\n",
            "5/5 [==============================] - 0s 23ms/step - loss: 1.3208 - accuracy: 0.4248\n",
            "Epoch 15/50\n",
            "5/5 [==============================] - 0s 23ms/step - loss: 1.3284 - accuracy: 0.3877\n",
            "Epoch 16/50\n",
            "5/5 [==============================] - 0s 23ms/step - loss: 1.2499 - accuracy: 0.4434\n",
            "Epoch 17/50\n",
            "5/5 [==============================] - 0s 25ms/step - loss: 1.3245 - accuracy: 0.3834\n",
            "Epoch 18/50\n",
            "5/5 [==============================] - 0s 23ms/step - loss: 1.2268 - accuracy: 0.4437\n",
            "Epoch 19/50\n",
            "5/5 [==============================] - 0s 23ms/step - loss: 1.2149 - accuracy: 0.4423\n",
            "Epoch 20/50\n",
            "5/5 [==============================] - 0s 22ms/step - loss: 1.0985 - accuracy: 0.4661\n",
            "Epoch 21/50\n",
            "5/5 [==============================] - 0s 23ms/step - loss: 1.1793 - accuracy: 0.4360\n",
            "Epoch 22/50\n",
            "5/5 [==============================] - 0s 23ms/step - loss: 1.1576 - accuracy: 0.4869\n",
            "Epoch 23/50\n",
            "5/5 [==============================] - 0s 25ms/step - loss: 1.1318 - accuracy: 0.4731\n",
            "Epoch 24/50\n",
            "5/5 [==============================] - 0s 23ms/step - loss: 1.1565 - accuracy: 0.4623\n",
            "Epoch 25/50\n",
            "5/5 [==============================] - 0s 24ms/step - loss: 1.1271 - accuracy: 0.4841\n",
            "Epoch 26/50\n",
            "5/5 [==============================] - 0s 22ms/step - loss: 1.1193 - accuracy: 0.4701\n",
            "Epoch 27/50\n",
            "5/5 [==============================] - 0s 23ms/step - loss: 1.1055 - accuracy: 0.4842\n",
            "Epoch 28/50\n",
            "5/5 [==============================] - 0s 22ms/step - loss: 1.1223 - accuracy: 0.4823\n",
            "Epoch 29/50\n",
            "5/5 [==============================] - 0s 23ms/step - loss: 1.0753 - accuracy: 0.5281\n",
            "Epoch 30/50\n",
            "5/5 [==============================] - 0s 25ms/step - loss: 1.1307 - accuracy: 0.4506\n",
            "Epoch 31/50\n",
            "5/5 [==============================] - 0s 23ms/step - loss: 1.1600 - accuracy: 0.4809\n",
            "Epoch 32/50\n",
            "5/5 [==============================] - 0s 24ms/step - loss: 1.4206 - accuracy: 0.4186\n",
            "Epoch 33/50\n",
            "5/5 [==============================] - 0s 22ms/step - loss: 1.5019 - accuracy: 0.3804\n",
            "Epoch 34/50\n",
            "5/5 [==============================] - 0s 26ms/step - loss: 1.3818 - accuracy: 0.3692\n",
            "Epoch 35/50\n",
            "5/5 [==============================] - 0s 22ms/step - loss: 1.3546 - accuracy: 0.3710\n",
            "Epoch 36/50\n",
            "5/5 [==============================] - 0s 22ms/step - loss: 1.2225 - accuracy: 0.4402\n",
            "Epoch 37/50\n",
            "5/5 [==============================] - 0s 23ms/step - loss: 1.2309 - accuracy: 0.3888\n",
            "Epoch 38/50\n",
            "5/5 [==============================] - 0s 23ms/step - loss: 1.1711 - accuracy: 0.4546\n",
            "Epoch 39/50\n",
            "5/5 [==============================] - 0s 22ms/step - loss: 1.1802 - accuracy: 0.4386\n",
            "Epoch 40/50\n",
            "5/5 [==============================] - 0s 23ms/step - loss: 1.1477 - accuracy: 0.4671\n",
            "Epoch 41/50\n",
            "5/5 [==============================] - 0s 23ms/step - loss: 1.1390 - accuracy: 0.4527\n",
            "Epoch 42/50\n",
            "5/5 [==============================] - 0s 24ms/step - loss: 1.0790 - accuracy: 0.5349\n",
            "Epoch 43/50\n",
            "5/5 [==============================] - 0s 22ms/step - loss: 1.1578 - accuracy: 0.4772\n",
            "Epoch 44/50\n",
            "5/5 [==============================] - 0s 22ms/step - loss: 1.1257 - accuracy: 0.5011\n",
            "Epoch 45/50\n",
            "5/5 [==============================] - 0s 23ms/step - loss: 1.1864 - accuracy: 0.4092\n",
            "Epoch 46/50\n",
            "5/5 [==============================] - 0s 22ms/step - loss: 1.1390 - accuracy: 0.4315\n",
            "Epoch 47/50\n",
            "5/5 [==============================] - 0s 24ms/step - loss: 1.1442 - accuracy: 0.4477\n",
            "Epoch 48/50\n",
            "5/5 [==============================] - 0s 26ms/step - loss: 1.1371 - accuracy: 0.5127\n",
            "Epoch 49/50\n",
            "5/5 [==============================] - 0s 23ms/step - loss: 1.0664 - accuracy: 0.5070\n",
            "Epoch 50/50\n",
            "5/5 [==============================] - 0s 23ms/step - loss: 1.1685 - accuracy: 0.4426\n"
          ],
          "name": "stdout"
        }
      ]
    },
    {
      "cell_type": "code",
      "metadata": {
        "colab": {
          "base_uri": "https://localhost:8080/"
        },
        "id": "9BEuKcTbuuo5",
        "outputId": "07b871de-5ee6-44c6-9e55-d8dedd1ad91a"
      },
      "source": [
        "pred = model.predict_classes(embedding_matrix_test)"
      ],
      "execution_count": null,
      "outputs": [
        {
          "output_type": "stream",
          "text": [
            "/usr/local/lib/python3.7/dist-packages/keras/engine/sequential.py:450: UserWarning: `model.predict_classes()` is deprecated and will be removed after 2021-01-01. Please use instead:* `np.argmax(model.predict(x), axis=-1)`,   if your model does multi-class classification   (e.g. if it uses a `softmax` last-layer activation).* `(model.predict(x) > 0.5).astype(\"int32\")`,   if your model does binary classification   (e.g. if it uses a `sigmoid` last-layer activation).\n",
            "  warnings.warn('`model.predict_classes()` is deprecated and '\n"
          ],
          "name": "stderr"
        }
      ]
    },
    {
      "cell_type": "code",
      "metadata": {
        "colab": {
          "base_uri": "https://localhost:8080/"
        },
        "id": "dkMdop7tux4y",
        "outputId": "05c875ff-5bb9-43d5-c132-e2dbbd1ea896"
      },
      "source": [
        "float(sum(pred==Y_test))/embedding_matrix_test.shape[0]"
      ],
      "execution_count": null,
      "outputs": [
        {
          "output_type": "execute_result",
          "data": {
            "text/plain": [
              "0.26785714285714285"
            ]
          },
          "metadata": {
            "tags": []
          },
          "execution_count": 40
        }
      ]
    },
    {
      "cell_type": "code",
      "metadata": {
        "id": "p2X0yUNsu5Zy",
        "colab": {
          "base_uri": "https://localhost:8080/"
        },
        "outputId": "a9ef4d12-5b86-48a5-8d3d-bad7a94c5be5"
      },
      "source": [
        "for ix in range(embedding_matrix_test.shape[0]):\n",
        "    \n",
        "    if pred[ix] != Y_test[ix]:\n",
        "        print(ix)\n",
        "        print (test[0][ix],end=\" \")\n",
        "        print (emoji.emojize(emoji_dict[pred[ix]], use_aliases=True),end=\" \")\n",
        "        print (emoji.emojize(emoji_dict[Y_test[ix]], use_aliases=True))"
      ],
      "execution_count": null,
      "outputs": [
        {
          "output_type": "stream",
          "text": [
            "0\n",
            "['I', 'want', 'to', 'eat'] 😞 🍴\n",
            "2\n",
            "['he', 'got', 'a', 'raise'] 😞 😄\n",
            "3\n",
            "['she', 'got', 'me', 'a', 'present'] 😞 ❤\n",
            "4\n",
            "['ha', 'ha', 'ha', 'it', 'was', 'so', 'funny'] 😞 😄\n",
            "5\n",
            "['he', 'is', 'a', 'good', 'friend'] 😞 ❤\n",
            "6\n",
            "['I', 'am', 'upset'] 😞 ❤\n",
            "7\n",
            "['We', 'had', 'such', 'a', 'lovely', 'dinner', 'tonight'] 😞 ❤\n",
            "8\n",
            "['where', 'is', 'the', 'food'] 😞 🍴\n",
            "9\n",
            "['Stop', 'making', 'this', 'joke', 'ha', 'ha', 'ha'] 😞 😄\n",
            "10\n",
            "['where', 'is', 'the', 'ball'] 😞 ⚾\n",
            "13\n",
            "['are', 'you', 'serious', 'ha', 'ha'] 😞 😄\n",
            "14\n",
            "['Let', 'us', 'go', 'play', 'baseball'] 😞 ⚾\n",
            "17\n",
            "['Congratulation', 'for', 'having', 'a', 'baby'] 😞 😄\n",
            "19\n",
            "['any', 'suggestions', 'for', 'dinner'] 😞 🍴\n",
            "20\n",
            "['I', 'love', 'taking', 'breaks'] 😞 ❤\n",
            "21\n",
            "['you', 'brighten', 'my', 'day'] 😞 😄\n",
            "22\n",
            "['I', 'boiled', 'rice'] 😞 🍴\n",
            "27\n",
            "['My', 'grandmother', 'is', 'the', 'love', 'of', 'my', 'life'] 😞 ❤\n",
            "28\n",
            "['enjoy', 'your', 'break'] 😞 😄\n",
            "29\n",
            "['valentine', 'day', 'is', 'near'] 😞 ❤\n",
            "30\n",
            "['I', 'miss', 'you', 'so', 'much'] 😞 ❤\n",
            "31\n",
            "['throw', 'the', 'ball'] 😞 ⚾\n",
            "33\n",
            "['she', 'said', 'yes'] 😞 😄\n",
            "34\n",
            "['will', 'you', 'be', 'my', 'valentine'] 😞 ❤\n",
            "35\n",
            "['he', 'can', 'pitch', 'really', 'well'] 😞 ⚾\n",
            "36\n",
            "['dance', 'with', 'me'] 😞 😄\n",
            "37\n",
            "['I', 'am', 'starving'] 😞 🍴\n",
            "38\n",
            "['See', 'you', 'at', 'the', 'restaurant'] 😞 🍴\n",
            "39\n",
            "['I', 'like', 'to', 'laugh'] 😞 😄\n",
            "40\n",
            "['I', 'will', 'go', 'dance'] 😞 😄\n",
            "41\n",
            "['I', 'like', 'your', 'jacket'] 😞 😄\n",
            "42\n",
            "['i', 'miss', 'her'] 😞 ❤\n",
            "43\n",
            "['what', 'is', 'your', 'favorite', 'baseball', 'game'] 😞 ⚾\n",
            "44\n",
            "['Good', 'job'] 😞 😄\n",
            "45\n",
            "['I', 'love', 'to', 'the', 'stars', 'and', 'back'] 😞 ❤\n",
            "46\n",
            "['What', 'you', 'did', 'was', 'awesome'] 😞 😄\n",
            "47\n",
            "['ha', 'ha', 'ha', 'lol'] 😞 😄\n",
            "48\n",
            "['I', 'want', 'to', 'joke'] 😞 😄\n",
            "51\n",
            "['family', 'is', 'all', 'I', 'have'] 😞 ❤\n",
            "53\n",
            "['Good', 'joke'] 😞 😄\n",
            "54\n",
            "['You', 'totally', 'deserve', 'this', 'prize'] 😞 😄\n"
          ],
          "name": "stdout"
        }
      ]
    }
  ]
}